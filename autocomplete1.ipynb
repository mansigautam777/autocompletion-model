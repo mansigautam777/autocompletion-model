{
 "metadata": {
  "language_info": {
   "codemirror_mode": {
    "name": "ipython",
    "version": 3
   },
   "file_extension": ".py",
   "mimetype": "text/x-python",
   "name": "python",
   "nbconvert_exporter": "python",
   "pygments_lexer": "ipython3",
   "version": "3.8.5-final"
  },
  "orig_nbformat": 2,
  "kernelspec": {
   "name": "Python 3.8.5 32-bit",
   "display_name": "Python 3.8.5 32-bit",
   "metadata": {
    "interpreter": {
     "hash": "416b3b3d7c2861747334a644f3bc9cc09375166302abdd382b9b4cd7a6e01994"
    }
   }
  }
 },
 "nbformat": 4,
 "nbformat_minor": 2,
 "cells": [
  {
   "cell_type": "code",
   "execution_count": 10,
   "metadata": {},
   "outputs": [],
   "source": [
    "import autocompleter"
   ]
  },
  {
   "cell_type": "code",
   "execution_count": 11,
   "metadata": {},
   "outputs": [],
   "source": [
    "autocompl = autocompleter.Autocompleter()"
   ]
  },
  {
   "cell_type": "code",
   "execution_count": 12,
   "metadata": {
    "tags": []
   },
   "outputs": [
    {
     "output_type": "stream",
     "name": "stdout",
     "text": "load json file...\n(22264, 3)\n"
    }
   ],
   "source": [
    "df = autocompl.import_json(\"name.json\")"
   ]
  },
  {
   "cell_type": "code",
   "execution_count": 13,
   "metadata": {},
   "outputs": [
    {
     "output_type": "execute_result",
     "data": {
      "text/plain": "((22264, 3), Index([&#39;IsFromCustomer&#39;, &#39;Text&#39;, &#39;index&#39;], dtype=&#39;object&#39;))"
     },
     "metadata": {},
     "execution_count": 13
    }
   ],
   "source": [
    "df.shape, df.columns"
   ]
  },
  {
   "cell_type": "code",
   "execution_count": 15,
   "metadata": {},
   "outputs": [
    {
     "output_type": "execute_result",
     "data": {
      "text/plain": "   IsFromCustomer                                               Text  index\n0            True  Hi! I placed an order on your website and I ca...      0\n1            True         I think I used my email address to log in.      0\n2            True                               My battery exploded!      1\n3            True             It&#39;s on fire, it&#39;s melting the carpet!      1\n4            True                                  What should I do!      1\n5            True               I&#39;m interested in upgrading my plan.      2\n6            True                 Can you tell me a bit about Prime?      2\n7            True   My friend has it, and it seems like a great deal      2\n8            True                                              Hello      3\n9           False             Hello Werner how may I help you today?      3",
      "text/html": "<div>\n<style scoped>\n    .dataframe tbody tr th:only-of-type {\n        vertical-align: middle;\n    }\n\n    .dataframe tbody tr th {\n        vertical-align: top;\n    }\n\n    .dataframe thead th {\n        text-align: right;\n    }\n</style>\n<table border=\"1\" class=\"dataframe\">\n  <thead>\n    <tr style=\"text-align: right;\">\n      <th></th>\n      <th>IsFromCustomer</th>\n      <th>Text</th>\n      <th>index</th>\n    </tr>\n  </thead>\n  <tbody>\n    <tr>\n      <th>0</th>\n      <td>True</td>\n      <td>Hi! I placed an order on your website and I ca...</td>\n      <td>0</td>\n    </tr>\n    <tr>\n      <th>1</th>\n      <td>True</td>\n      <td>I think I used my email address to log in.</td>\n      <td>0</td>\n    </tr>\n    <tr>\n      <th>2</th>\n      <td>True</td>\n      <td>My battery exploded!</td>\n      <td>1</td>\n    </tr>\n    <tr>\n      <th>3</th>\n      <td>True</td>\n      <td>It's on fire, it's melting the carpet!</td>\n      <td>1</td>\n    </tr>\n    <tr>\n      <th>4</th>\n      <td>True</td>\n      <td>What should I do!</td>\n      <td>1</td>\n    </tr>\n    <tr>\n      <th>5</th>\n      <td>True</td>\n      <td>I'm interested in upgrading my plan.</td>\n      <td>2</td>\n    </tr>\n    <tr>\n      <th>6</th>\n      <td>True</td>\n      <td>Can you tell me a bit about Prime?</td>\n      <td>2</td>\n    </tr>\n    <tr>\n      <th>7</th>\n      <td>True</td>\n      <td>My friend has it, and it seems like a great deal</td>\n      <td>2</td>\n    </tr>\n    <tr>\n      <th>8</th>\n      <td>True</td>\n      <td>Hello</td>\n      <td>3</td>\n    </tr>\n    <tr>\n      <th>9</th>\n      <td>False</td>\n      <td>Hello Werner how may I help you today?</td>\n      <td>3</td>\n    </tr>\n  </tbody>\n</table>\n</div>"
     },
     "metadata": {},
     "execution_count": 15
    }
   ],
   "source": [
    "df.head(10)"
   ]
  },
  {
   "cell_type": "code",
   "execution_count": 16,
   "metadata": {
    "tags": []
   },
   "outputs": [
    {
     "output_type": "stream",
     "name": "stdout",
     "text": "select representative threads...\nsplit sentenses on punctuation...\nText Cleaning using simple regex...\ncalculate nb words of sentenses...\ncount occurence of sentenses...\nremove duplicates (keep last)...\n(8560, 5)\n"
    }
   ],
   "source": [
    "new_df = autocompl.process_data(df)"
   ]
  },
  {
   "cell_type": "code",
   "execution_count": 17,
   "metadata": {},
   "outputs": [
    {
     "output_type": "execute_result",
     "data": {
      "text/plain": "((8560, 5),\n Index([&#39;IsFromCustomer&#39;, &#39;Text&#39;, &#39;index&#39;, &#39;nb_words&#39;, &#39;Counts&#39;], dtype=&#39;object&#39;))"
     },
     "metadata": {},
     "execution_count": 17
    }
   ],
   "source": [
    "new_df.shape, new_df.columns"
   ]
  },
  {
   "cell_type": "code",
   "execution_count": 18,
   "metadata": {
    "tags": []
   },
   "outputs": [
    {
     "output_type": "stream",
     "name": "stdout",
     "text": "tfidf_matrice  (8560, 99397)\n"
    }
   ],
   "source": [
    "model_tf, tfidf_matrice = autocompl.calc_matrice(new_df)"
   ]
  },
  {
   "cell_type": "code",
   "execution_count": 21,
   "metadata": {
    "tags": []
   },
   "outputs": [
    {
     "output_type": "stream",
     "name": "stdout",
     "text": "hello     \n \n"
    },
    {
     "output_type": "execute_result",
     "data": {
      "text/plain": "[&#39;Hello wernzio 2&#39;,\n &#39;Hello I can assist you with this&#39;,\n &#39;Hello werner how are things going?\\\\&#39;]"
     },
     "metadata": {},
     "execution_count": 21
    }
   ],
   "source": [
    "prefix = 'hello'\n",
    "\n",
    "print(prefix,\"    \\n \")\n",
    "\n",
    "autocompl.generate_completions(prefix, new_df, model_tf,tfidf_matrice)"
   ]
  },
  {
   "cell_type": "code",
   "execution_count": null,
   "metadata": {},
   "outputs": [],
   "source": []
  }
 ]
}